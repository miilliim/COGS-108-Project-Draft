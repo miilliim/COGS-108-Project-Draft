{
 "cells": [
  {
   "cell_type": "code",
   "execution_count": 1,
   "metadata": {},
   "outputs": [],
   "source": [
    "%matplotlib inline\n",
    "\n",
    "# Import libraries\n",
    "import numpy as np\n",
    "import pandas as pd\n",
    "import matplotlib.pyplot as plt\n",
    "import seaborn as sns"
   ]
  },
  {
   "cell_type": "code",
   "execution_count": 2,
   "metadata": {},
   "outputs": [],
   "source": [
    "# Configure libraries\n",
    "# The seaborn library makes plots look nicer\n",
    "sns.set()\n",
    "sns.set_context('talk')\n",
    "\n",
    "# Don't display too many rows/cols of DataFrames\n",
    "pd.options.display.max_rows = 7\n",
    "pd.options.display.max_columns = 8\n",
    "\n",
    "# Round decimals when displaying DataFrames\n",
    "pd.set_option('precision', 2)"
   ]
  },
  {
   "cell_type": "code",
   "execution_count": 3,
   "metadata": {},
   "outputs": [],
   "source": [
    "df= pd.read_csv('LEADINGCAUSESOFDEATH.csv')"
   ]
  },
  {
   "cell_type": "code",
   "execution_count": 4,
   "metadata": {},
   "outputs": [
    {
     "data": {
      "text/plain": [
       "Index(['State_FIPS_Code', 'County_FIPS_Code', 'CHSI_County_Name',\n",
       "       'CHSI_State_Name', 'CHSI_State_Abbr', 'Strata_ID_Number', 'A_Wh_Comp',\n",
       "       'CI_Min_A_Wh_Comp', 'CI_Max_A_Wh_Comp', 'A_Bl_Comp',\n",
       "       ...\n",
       "       'F_Bl_Cancer', 'CI_Min_F_Bl_Cancer', 'CI_Max_F_Bl_Cancer',\n",
       "       'F_Ot_Cancer', 'CI_Min_F_Ot_Cancer', 'CI_Max_F_Ot_Cancer',\n",
       "       'F_Hi_Cancer', 'CI_Min_F_Hi_Cancer', 'CI_Max_F_Hi_Cancer',\n",
       "       'LCD_Time_Span'],\n",
       "      dtype='object', length=235)"
      ]
     },
     "execution_count": 4,
     "metadata": {},
     "output_type": "execute_result"
    }
   ],
   "source": [
    "df.columns"
   ]
  },
  {
   "cell_type": "code",
   "execution_count": null,
   "metadata": {},
   "outputs": [
    {
     "data": {
      "text/plain": [
       "Index([], dtype='object')"
      ]
     },
     "execution_count": 5,
     "metadata": {},
     "output_type": "execute_result"
    }
   ],
   "source": [
    "df.columns[df.isnull().any(axis=0)]"
   ]
  },
  {
   "cell_type": "code",
   "execution_count": null,
   "metadata": {},
   "outputs": [
    {
     "data": {
      "text/plain": [
       "State_FIPS_Code       0\n",
       "County_FIPS_Code      0\n",
       "CHSI_County_Name      0\n",
       "                     ..\n",
       "CI_Min_F_Hi_Cancer    0\n",
       "CI_Max_F_Hi_Cancer    0\n",
       "LCD_Time_Span         0\n",
       "Length: 235, dtype: int64"
      ]
     },
     "execution_count": 6,
     "metadata": {},
     "output_type": "execute_result"
    }
   ],
   "source": [
    "df.isnull().sum()"
   ]
  },
  {
   "cell_type": "code",
   "execution_count": null,
   "metadata": {},
   "outputs": [
    {
     "data": {
      "text/plain": [
       "(3141, 235)"
      ]
     },
     "execution_count": 7,
     "metadata": {},
     "output_type": "execute_result"
    }
   ],
   "source": [
    "df.shape"
   ]
  },
  {
   "cell_type": "code",
   "execution_count": null,
   "metadata": {},
   "outputs": [
    {
     "data": {
      "text/plain": [
       "2535"
      ]
     },
     "execution_count": 8,
     "metadata": {},
     "output_type": "execute_result"
    }
   ],
   "source": [
    "sum(df['F_Hi_HeartDis']== -1111)"
   ]
  },
  {
   "cell_type": "code",
   "execution_count": null,
   "metadata": {
    "scrolled": true
   },
   "outputs": [],
   "source": [
    "new_df= pd.DataFrame(df, columns=['CHSI_State_Name','D_Wh_HeartDis', 'D_Bl_HeartDis', \n",
    "                                 'D_Ot_HeartDis', 'D_Hi_HeartDis', 'E_Wh_HeartDis', \n",
    "                                 'E_Bl_HeartDis', 'E_Ot_HeartDis', 'E_Hi_HeartDis', \n",
    "                                 'F_Wh_HeartDis','F_Bl_HeartDis', 'F_Ot_HeartDis', \n",
    "                                 'F_Hi_HeartDis'])"
   ]
  },
  {
   "cell_type": "code",
   "execution_count": null,
   "metadata": {},
   "outputs": [
    {
     "data": {
      "text/plain": [
       "(3141, 13)"
      ]
     },
     "execution_count": 10,
     "metadata": {},
     "output_type": "execute_result"
    }
   ],
   "source": [
    "new_df.shape"
   ]
  },
  {
   "cell_type": "code",
   "execution_count": null,
   "metadata": {},
   "outputs": [
    {
     "data": {
      "text/plain": [
       "Index([], dtype='object')"
      ]
     },
     "execution_count": 11,
     "metadata": {},
     "output_type": "execute_result"
    }
   ],
   "source": [
    "new_df.columns[new_df.isnull().any(axis=0)]"
   ]
  },
  {
   "cell_type": "code",
   "execution_count": null,
   "metadata": {},
   "outputs": [],
   "source": [
    "#new_df= new_df.set_index('CHSI_State_Name')"
   ]
  },
  {
   "cell_type": "code",
   "execution_count": null,
   "metadata": {},
   "outputs": [
    {
     "data": {
      "text/html": [
       "<div>\n",
       "<style scoped>\n",
       "    .dataframe tbody tr th:only-of-type {\n",
       "        vertical-align: middle;\n",
       "    }\n",
       "\n",
       "    .dataframe tbody tr th {\n",
       "        vertical-align: top;\n",
       "    }\n",
       "\n",
       "    .dataframe thead th {\n",
       "        text-align: right;\n",
       "    }\n",
       "</style>\n",
       "<table border=\"1\" class=\"dataframe\">\n",
       "  <thead>\n",
       "    <tr style=\"text-align: right;\">\n",
       "      <th></th>\n",
       "      <th>CHSI_State_Name</th>\n",
       "      <th>D_Wh_HeartDis</th>\n",
       "      <th>D_Bl_HeartDis</th>\n",
       "      <th>D_Ot_HeartDis</th>\n",
       "      <th>...</th>\n",
       "      <th>F_Wh_HeartDis</th>\n",
       "      <th>F_Bl_HeartDis</th>\n",
       "      <th>F_Ot_HeartDis</th>\n",
       "      <th>F_Hi_HeartDis</th>\n",
       "    </tr>\n",
       "  </thead>\n",
       "  <tbody>\n",
       "    <tr>\n",
       "      <th>184</th>\n",
       "      <td>California</td>\n",
       "      <td>11</td>\n",
       "      <td>13</td>\n",
       "      <td>14</td>\n",
       "      <td>...</td>\n",
       "      <td>31</td>\n",
       "      <td>31</td>\n",
       "      <td>28</td>\n",
       "      <td>28</td>\n",
       "    </tr>\n",
       "    <tr>\n",
       "      <th>185</th>\n",
       "      <td>California</td>\n",
       "      <td>-1111</td>\n",
       "      <td>-1111</td>\n",
       "      <td>-1111</td>\n",
       "      <td>...</td>\n",
       "      <td>34</td>\n",
       "      <td>-1111</td>\n",
       "      <td>-1111</td>\n",
       "      <td>-1111</td>\n",
       "    </tr>\n",
       "    <tr>\n",
       "      <th>186</th>\n",
       "      <td>California</td>\n",
       "      <td>21</td>\n",
       "      <td>-1111</td>\n",
       "      <td>-1111</td>\n",
       "      <td>...</td>\n",
       "      <td>31</td>\n",
       "      <td>-1111</td>\n",
       "      <td>-1111</td>\n",
       "      <td>50</td>\n",
       "    </tr>\n",
       "    <tr>\n",
       "      <th>...</th>\n",
       "      <td>...</td>\n",
       "      <td>...</td>\n",
       "      <td>...</td>\n",
       "      <td>...</td>\n",
       "      <td>...</td>\n",
       "      <td>...</td>\n",
       "      <td>...</td>\n",
       "      <td>...</td>\n",
       "      <td>...</td>\n",
       "    </tr>\n",
       "    <tr>\n",
       "      <th>239</th>\n",
       "      <td>California</td>\n",
       "      <td>11</td>\n",
       "      <td>21</td>\n",
       "      <td>16</td>\n",
       "      <td>...</td>\n",
       "      <td>31</td>\n",
       "      <td>36</td>\n",
       "      <td>29</td>\n",
       "      <td>27</td>\n",
       "    </tr>\n",
       "    <tr>\n",
       "      <th>240</th>\n",
       "      <td>California</td>\n",
       "      <td>10</td>\n",
       "      <td>-1111</td>\n",
       "      <td>10</td>\n",
       "      <td>...</td>\n",
       "      <td>25</td>\n",
       "      <td>27</td>\n",
       "      <td>29</td>\n",
       "      <td>25</td>\n",
       "    </tr>\n",
       "    <tr>\n",
       "      <th>241</th>\n",
       "      <td>California</td>\n",
       "      <td>14</td>\n",
       "      <td>-1111</td>\n",
       "      <td>-1111</td>\n",
       "      <td>...</td>\n",
       "      <td>32</td>\n",
       "      <td>34</td>\n",
       "      <td>28</td>\n",
       "      <td>30</td>\n",
       "    </tr>\n",
       "  </tbody>\n",
       "</table>\n",
       "<p>58 rows × 13 columns</p>\n",
       "</div>"
      ],
      "text/plain": [
       "    CHSI_State_Name  D_Wh_HeartDis  D_Bl_HeartDis  D_Ot_HeartDis  \\\n",
       "184      California             11             13             14   \n",
       "185      California          -1111          -1111          -1111   \n",
       "186      California             21          -1111          -1111   \n",
       "..              ...            ...            ...            ...   \n",
       "239      California             11             21             16   \n",
       "240      California             10          -1111             10   \n",
       "241      California             14          -1111          -1111   \n",
       "\n",
       "         ...        F_Wh_HeartDis  F_Bl_HeartDis  F_Ot_HeartDis  F_Hi_HeartDis  \n",
       "184      ...                   31             31             28             28  \n",
       "185      ...                   34          -1111          -1111          -1111  \n",
       "186      ...                   31          -1111          -1111             50  \n",
       "..       ...                  ...            ...            ...            ...  \n",
       "239      ...                   31             36             29             27  \n",
       "240      ...                   25             27             29             25  \n",
       "241      ...                   32             34             28             30  \n",
       "\n",
       "[58 rows x 13 columns]"
      ]
     },
     "execution_count": 13,
     "metadata": {},
     "output_type": "execute_result"
    }
   ],
   "source": [
    "new_df= new_df.loc[new_df['CHSI_State_Name'] == 'California']\n",
    "new_df"
   ]
  },
  {
   "cell_type": "code",
   "execution_count": null,
   "metadata": {},
   "outputs": [],
   "source": [
    "test_df= pd.DataFrame(df, columns=['CHSI_State_Name','D_Wh_HeartDis', 'D_Bl_HeartDis', \n",
    "                                 'D_Ot_HeartDis', 'D_Hi_HeartDis', 'E_Wh_HeartDis', \n",
    "                                 'E_Bl_HeartDis', 'E_Ot_HeartDis', 'E_Hi_HeartDis', \n",
    "                                 'F_Wh_HeartDis','F_Bl_HeartDis', 'F_Ot_HeartDis', \n",
    "                                 'F_Hi_HeartDis'])"
   ]
  },
  {
   "cell_type": "code",
   "execution_count": null,
   "metadata": {},
   "outputs": [],
   "source": [
    "#test_df= test_df.index[test_df['CHSI_State_Name']!= -1111]"
   ]
  },
  {
   "cell_type": "code",
   "execution_count": null,
   "metadata": {},
   "outputs": [],
   "source": [
    "#df_null= test_df.index[test_df['CHSI_State_Name']== -1111]\n",
    "#test_df= test_df.drop(test_df['CHSI_State_Name']== -1111)"
   ]
  },
  {
   "cell_type": "code",
   "execution_count": null,
   "metadata": {},
   "outputs": [],
   "source": [
    "test_df['CHSI_State_Name'].hist(bins=30)"
   ]
  },
  {
   "cell_type": "code",
   "execution_count": null,
   "metadata": {},
   "outputs": [],
   "source": [
    "#drop rows with -1111 values, since that seems to be the equivalent Nan\n",
    "test_df=test_df[test_df!=-1111]"
   ]
  },
  {
   "cell_type": "code",
   "execution_count": null,
   "metadata": {},
   "outputs": [],
   "source": [
    "test_df= test_df.astype(int)"
   ]
  },
  {
   "cell_type": "code",
   "execution_count": null,
   "metadata": {},
   "outputs": [],
   "source": [
    "test_df['CHSI_State_Name'].hist(range=(0, test_df.max()))"
   ]
  },
  {
   "cell_type": "code",
   "execution_count": null,
   "metadata": {},
   "outputs": [],
   "source": []
  }
 ],
 "metadata": {
  "kernelspec": {
   "display_name": "Python 3",
   "language": "python",
   "name": "python3"
  },
  "language_info": {
   "codemirror_mode": {
    "name": "ipython",
    "version": 3
   },
   "file_extension": ".py",
   "mimetype": "text/x-python",
   "name": "python",
   "nbconvert_exporter": "python",
   "pygments_lexer": "ipython3",
   "version": "3.6.7"
  }
 },
 "nbformat": 4,
 "nbformat_minor": 2
}
